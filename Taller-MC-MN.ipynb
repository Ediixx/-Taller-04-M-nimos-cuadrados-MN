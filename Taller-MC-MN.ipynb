{
 "cells": [
  {
   "cell_type": "markdown",
   "metadata": {},
   "source": [
    "#### ESCUELA POLITÉCNICA NACIONAL\n",
    "#### FACULTAD DE INGENIERÍA DE SISTEMAS\n",
    "#### MÉTODOS NUMÉRICOS\n",
    "##### NOMBRE: Edison Quizhpe"
   ]
  },
  {
   "cell_type": "code",
   "execution_count": 1,
   "metadata": {},
   "outputs": [],
   "source": [
    "p1 = (5.4, 3.2)\n",
    "p2_i = (9.5, 0.7)\n",
    "p3 = (12.3, -3.6)"
   ]
  },
  {
   "cell_type": "code",
   "execution_count": 16,
   "metadata": {},
   "outputs": [
    {
     "data": {
      "application/vnd.jupyter.widget-view+json": {
       "model_id": "0f96385ae8a14f9a84b6d8e6c998187a",
       "version_major": 2,
       "version_minor": 0
      },
      "text/plain": [
       "interactive(children=(FloatSlider(value=8.9, description='p2_x', max=12.3, min=5.5), FloatSlider(value=0.0, de…"
      ]
     },
     "metadata": {},
     "output_type": "display_data"
    }
   ],
   "source": [
    "from ipywidgets import interact\n",
    "import matplotlib.pyplot as plt\n",
    "import numpy as np\n",
    "\n",
    "\n",
    "def update_plot(p2_x, p2_y):\n",
    "    x_coords = [p1[0], p2_x, p3[0]]\n",
    "    y_coords = [p1[1], p2_y, p3[1]]\n",
    "\n",
    "    plt.figure(figsize=(10, 6))\n",
    "    plt.scatter(x_coords, y_coords, color=\"red\")\n",
    "\n",
    "    ## Mediante esta función se obtienen los coeficientes de la recta que pasa por los puntos\n",
    "    m, b = np.polyfit(x_coords, y_coords, 1)\n",
    "\n",
    "    x_line = [min(x_coords), max(x_coords)]\n",
    "    y_line = [m * x + b for x in x_line]\n",
    "    plt.plot(x_line, y_line, color=\"blue\")\n",
    "\n",
    "    plt.xlabel(\"X\")\n",
    "    plt.ylabel(\"Y\")\n",
    "    plt.title(\"Points and Line Plot\")\n",
    "    plt.show()\n",
    "\n",
    "\n",
    "_ = interact(update_plot, p2_x=(5.5, 12.3, 0.1), p2_y=(-10.0, 10.0, 0.1))"
   ]
  }
 ],
 "metadata": {
  "kernelspec": {
   "display_name": "Python 3",
   "language": "python",
   "name": "python3"
  },
  "language_info": {
   "codemirror_mode": {
    "name": "ipython",
    "version": 3
   },
   "file_extension": ".py",
   "mimetype": "text/x-python",
   "name": "python",
   "nbconvert_exporter": "python",
   "pygments_lexer": "ipython3",
   "version": "3.11.0"
  }
 },
 "nbformat": 4,
 "nbformat_minor": 2
}
